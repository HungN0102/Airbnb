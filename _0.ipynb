{
 "cells": [
  {
   "cell_type": "markdown",
   "metadata": {},
   "source": [
    "# Import Libraries"
   ]
  },
  {
   "cell_type": "code",
   "execution_count": 29,
   "metadata": {},
   "outputs": [],
   "source": [
    "import pandas as pd \n",
    "import numpy as np \n",
    "import seaborn as sns\n",
    "import re\n",
    "import matplotlib.pyplot as plt\n",
    "pd.options.display.max_columns = 100"
   ]
  },
  {
   "cell_type": "markdown",
   "metadata": {},
   "source": [
    "# Import dataset"
   ]
  },
  {
   "cell_type": "code",
   "execution_count": 30,
   "metadata": {},
   "outputs": [
    {
     "data": {
      "text/html": [
       "<div>\n",
       "<style scoped>\n",
       "    .dataframe tbody tr th:only-of-type {\n",
       "        vertical-align: middle;\n",
       "    }\n",
       "\n",
       "    .dataframe tbody tr th {\n",
       "        vertical-align: top;\n",
       "    }\n",
       "\n",
       "    .dataframe thead th {\n",
       "        text-align: right;\n",
       "    }\n",
       "</style>\n",
       "<table border=\"1\" class=\"dataframe\">\n",
       "  <thead>\n",
       "    <tr style=\"text-align: right;\">\n",
       "      <th></th>\n",
       "      <th>id</th>\n",
       "      <th>listing_url</th>\n",
       "      <th>scrape_id</th>\n",
       "      <th>last_scraped</th>\n",
       "      <th>name</th>\n",
       "      <th>description</th>\n",
       "      <th>neighborhood_overview</th>\n",
       "      <th>picture_url</th>\n",
       "      <th>host_id</th>\n",
       "      <th>host_url</th>\n",
       "      <th>host_name</th>\n",
       "      <th>host_since</th>\n",
       "      <th>host_location</th>\n",
       "      <th>host_about</th>\n",
       "      <th>host_response_time</th>\n",
       "      <th>host_response_rate</th>\n",
       "      <th>host_acceptance_rate</th>\n",
       "      <th>host_is_superhost</th>\n",
       "      <th>host_thumbnail_url</th>\n",
       "      <th>host_picture_url</th>\n",
       "      <th>host_neighbourhood</th>\n",
       "      <th>host_listings_count</th>\n",
       "      <th>host_total_listings_count</th>\n",
       "      <th>host_verifications</th>\n",
       "      <th>host_has_profile_pic</th>\n",
       "      <th>host_identity_verified</th>\n",
       "      <th>neighbourhood</th>\n",
       "      <th>neighbourhood_cleansed</th>\n",
       "      <th>neighbourhood_group_cleansed</th>\n",
       "      <th>latitude</th>\n",
       "      <th>longitude</th>\n",
       "      <th>property_type</th>\n",
       "      <th>room_type</th>\n",
       "      <th>accommodates</th>\n",
       "      <th>bathrooms</th>\n",
       "      <th>bathrooms_text</th>\n",
       "      <th>bedrooms</th>\n",
       "      <th>beds</th>\n",
       "      <th>amenities</th>\n",
       "      <th>price</th>\n",
       "      <th>minimum_nights</th>\n",
       "      <th>maximum_nights</th>\n",
       "      <th>minimum_minimum_nights</th>\n",
       "      <th>maximum_minimum_nights</th>\n",
       "      <th>minimum_maximum_nights</th>\n",
       "      <th>maximum_maximum_nights</th>\n",
       "      <th>minimum_nights_avg_ntm</th>\n",
       "      <th>maximum_nights_avg_ntm</th>\n",
       "      <th>calendar_updated</th>\n",
       "      <th>has_availability</th>\n",
       "      <th>availability_30</th>\n",
       "      <th>availability_60</th>\n",
       "      <th>availability_90</th>\n",
       "      <th>availability_365</th>\n",
       "      <th>calendar_last_scraped</th>\n",
       "      <th>number_of_reviews</th>\n",
       "      <th>number_of_reviews_ltm</th>\n",
       "      <th>number_of_reviews_l30d</th>\n",
       "      <th>first_review</th>\n",
       "      <th>last_review</th>\n",
       "      <th>review_scores_rating</th>\n",
       "      <th>review_scores_accuracy</th>\n",
       "      <th>review_scores_cleanliness</th>\n",
       "      <th>review_scores_checkin</th>\n",
       "      <th>review_scores_communication</th>\n",
       "      <th>review_scores_location</th>\n",
       "      <th>review_scores_value</th>\n",
       "      <th>license</th>\n",
       "      <th>instant_bookable</th>\n",
       "      <th>calculated_host_listings_count</th>\n",
       "      <th>calculated_host_listings_count_entire_homes</th>\n",
       "      <th>calculated_host_listings_count_private_rooms</th>\n",
       "      <th>calculated_host_listings_count_shared_rooms</th>\n",
       "      <th>reviews_per_month</th>\n",
       "    </tr>\n",
       "  </thead>\n",
       "  <tbody>\n",
       "    <tr>\n",
       "      <th>0</th>\n",
       "      <td>11551</td>\n",
       "      <td>https://www.airbnb.com/rooms/11551</td>\n",
       "      <td>20210411033700</td>\n",
       "      <td>2021-04-19</td>\n",
       "      <td>Arty and Bright London Apartment in Zone 2</td>\n",
       "      <td>Unlike most rental apartments my flat gives yo...</td>\n",
       "      <td>Not even 10 minutes by metro from Victoria Sta...</td>\n",
       "      <td>https://a0.muscache.com/pictures/b7afccf4-18e5...</td>\n",
       "      <td>43039</td>\n",
       "      <td>https://www.airbnb.com/users/show/43039</td>\n",
       "      <td>Adriano</td>\n",
       "      <td>2009-10-03</td>\n",
       "      <td>London, England, United Kingdom</td>\n",
       "      <td>Hello, I'm a friendly Italian man with a posit...</td>\n",
       "      <td>within an hour</td>\n",
       "      <td>100%</td>\n",
       "      <td>81%</td>\n",
       "      <td>f</td>\n",
       "      <td>https://a0.muscache.com/im/pictures/user/5f182...</td>\n",
       "      <td>https://a0.muscache.com/im/pictures/user/5f182...</td>\n",
       "      <td>Brixton</td>\n",
       "      <td>0.0</td>\n",
       "      <td>0.0</td>\n",
       "      <td>['email', 'phone', 'reviews', 'jumio', 'offlin...</td>\n",
       "      <td>t</td>\n",
       "      <td>t</td>\n",
       "      <td>London, United Kingdom</td>\n",
       "      <td>Lambeth</td>\n",
       "      <td>NaN</td>\n",
       "      <td>51.46095</td>\n",
       "      <td>-0.11758</td>\n",
       "      <td>Entire apartment</td>\n",
       "      <td>Entire home/apt</td>\n",
       "      <td>4</td>\n",
       "      <td>NaN</td>\n",
       "      <td>1 bath</td>\n",
       "      <td>1.0</td>\n",
       "      <td>3.0</td>\n",
       "      <td>[\"Hair dryer\", \"Essentials\", \"Washer\", \"Lockbo...</td>\n",
       "      <td>$110.00</td>\n",
       "      <td>2</td>\n",
       "      <td>1125</td>\n",
       "      <td>2.0</td>\n",
       "      <td>2.0</td>\n",
       "      <td>1125.0</td>\n",
       "      <td>1125.0</td>\n",
       "      <td>2.0</td>\n",
       "      <td>1125.0</td>\n",
       "      <td>NaN</td>\n",
       "      <td>t</td>\n",
       "      <td>0</td>\n",
       "      <td>14</td>\n",
       "      <td>44</td>\n",
       "      <td>220</td>\n",
       "      <td>2021-04-19</td>\n",
       "      <td>193</td>\n",
       "      <td>1</td>\n",
       "      <td>0</td>\n",
       "      <td>2010-03-21</td>\n",
       "      <td>2021-02-21</td>\n",
       "      <td>91.0</td>\n",
       "      <td>9.0</td>\n",
       "      <td>9.0</td>\n",
       "      <td>10.0</td>\n",
       "      <td>10.0</td>\n",
       "      <td>9.0</td>\n",
       "      <td>9.0</td>\n",
       "      <td>NaN</td>\n",
       "      <td>t</td>\n",
       "      <td>2</td>\n",
       "      <td>2</td>\n",
       "      <td>0</td>\n",
       "      <td>0</td>\n",
       "      <td>1.43</td>\n",
       "    </tr>\n",
       "    <tr>\n",
       "      <th>1</th>\n",
       "      <td>13913</td>\n",
       "      <td>https://www.airbnb.com/rooms/13913</td>\n",
       "      <td>20210411033700</td>\n",
       "      <td>2021-04-17</td>\n",
       "      <td>Holiday London DB Room Let-on going</td>\n",
       "      <td>My bright double bedroom with a large window h...</td>\n",
       "      <td>Finsbury Park is a friendly melting pot commun...</td>\n",
       "      <td>https://a0.muscache.com/pictures/miso/Hosting-...</td>\n",
       "      <td>54730</td>\n",
       "      <td>https://www.airbnb.com/users/show/54730</td>\n",
       "      <td>Alina</td>\n",
       "      <td>2009-11-16</td>\n",
       "      <td>London, England, United Kingdom</td>\n",
       "      <td>I am a Multi-Media Visual Artist and Creative ...</td>\n",
       "      <td>within an hour</td>\n",
       "      <td>100%</td>\n",
       "      <td>NaN</td>\n",
       "      <td>f</td>\n",
       "      <td>https://a0.muscache.com/im/users/54730/profile...</td>\n",
       "      <td>https://a0.muscache.com/im/users/54730/profile...</td>\n",
       "      <td>LB of Islington</td>\n",
       "      <td>3.0</td>\n",
       "      <td>3.0</td>\n",
       "      <td>['email', 'phone', 'facebook', 'reviews', 'off...</td>\n",
       "      <td>t</td>\n",
       "      <td>t</td>\n",
       "      <td>Islington, Greater London, United Kingdom</td>\n",
       "      <td>Islington</td>\n",
       "      <td>NaN</td>\n",
       "      <td>51.56861</td>\n",
       "      <td>-0.11270</td>\n",
       "      <td>Private room in apartment</td>\n",
       "      <td>Private room</td>\n",
       "      <td>2</td>\n",
       "      <td>NaN</td>\n",
       "      <td>1 shared bath</td>\n",
       "      <td>1.0</td>\n",
       "      <td>0.0</td>\n",
       "      <td>[\"Kitchen\", \"Host greets you\", \"Bed linens\", \"...</td>\n",
       "      <td>$40.00</td>\n",
       "      <td>1</td>\n",
       "      <td>29</td>\n",
       "      <td>1.0</td>\n",
       "      <td>1.0</td>\n",
       "      <td>29.0</td>\n",
       "      <td>29.0</td>\n",
       "      <td>1.0</td>\n",
       "      <td>29.0</td>\n",
       "      <td>NaN</td>\n",
       "      <td>t</td>\n",
       "      <td>2</td>\n",
       "      <td>2</td>\n",
       "      <td>2</td>\n",
       "      <td>2</td>\n",
       "      <td>2021-04-17</td>\n",
       "      <td>21</td>\n",
       "      <td>0</td>\n",
       "      <td>0</td>\n",
       "      <td>2010-08-18</td>\n",
       "      <td>2020-02-22</td>\n",
       "      <td>97.0</td>\n",
       "      <td>10.0</td>\n",
       "      <td>10.0</td>\n",
       "      <td>10.0</td>\n",
       "      <td>10.0</td>\n",
       "      <td>9.0</td>\n",
       "      <td>9.0</td>\n",
       "      <td>NaN</td>\n",
       "      <td>f</td>\n",
       "      <td>2</td>\n",
       "      <td>1</td>\n",
       "      <td>1</td>\n",
       "      <td>0</td>\n",
       "      <td>0.16</td>\n",
       "    </tr>\n",
       "    <tr>\n",
       "      <th>2</th>\n",
       "      <td>15400</td>\n",
       "      <td>https://www.airbnb.com/rooms/15400</td>\n",
       "      <td>20210411033700</td>\n",
       "      <td>2021-04-16</td>\n",
       "      <td>Bright Chelsea  Apartment. Chelsea!</td>\n",
       "      <td>Lots of windows and light.  St Luke's Gardens ...</td>\n",
       "      <td>It is Chelsea.</td>\n",
       "      <td>https://a0.muscache.com/pictures/428392/462d26...</td>\n",
       "      <td>60302</td>\n",
       "      <td>https://www.airbnb.com/users/show/60302</td>\n",
       "      <td>Philippa</td>\n",
       "      <td>2009-12-05</td>\n",
       "      <td>Kensington, England, United Kingdom</td>\n",
       "      <td>English, grandmother,  I have travelled quite ...</td>\n",
       "      <td>NaN</td>\n",
       "      <td>NaN</td>\n",
       "      <td>NaN</td>\n",
       "      <td>f</td>\n",
       "      <td>https://a0.muscache.com/im/users/60302/profile...</td>\n",
       "      <td>https://a0.muscache.com/im/users/60302/profile...</td>\n",
       "      <td>Chelsea</td>\n",
       "      <td>1.0</td>\n",
       "      <td>1.0</td>\n",
       "      <td>['email', 'phone', 'reviews', 'jumio', 'govern...</td>\n",
       "      <td>t</td>\n",
       "      <td>t</td>\n",
       "      <td>London, United Kingdom</td>\n",
       "      <td>Kensington and Chelsea</td>\n",
       "      <td>NaN</td>\n",
       "      <td>51.48780</td>\n",
       "      <td>-0.16813</td>\n",
       "      <td>Entire apartment</td>\n",
       "      <td>Entire home/apt</td>\n",
       "      <td>2</td>\n",
       "      <td>NaN</td>\n",
       "      <td>1 bath</td>\n",
       "      <td>1.0</td>\n",
       "      <td>1.0</td>\n",
       "      <td>[\"Kitchen\", \"Hangers\", \"Fire extinguisher\", \"L...</td>\n",
       "      <td>$75.00</td>\n",
       "      <td>10</td>\n",
       "      <td>50</td>\n",
       "      <td>10.0</td>\n",
       "      <td>10.0</td>\n",
       "      <td>50.0</td>\n",
       "      <td>50.0</td>\n",
       "      <td>10.0</td>\n",
       "      <td>50.0</td>\n",
       "      <td>NaN</td>\n",
       "      <td>t</td>\n",
       "      <td>0</td>\n",
       "      <td>0</td>\n",
       "      <td>0</td>\n",
       "      <td>236</td>\n",
       "      <td>2021-04-16</td>\n",
       "      <td>89</td>\n",
       "      <td>0</td>\n",
       "      <td>0</td>\n",
       "      <td>2009-12-21</td>\n",
       "      <td>2020-03-16</td>\n",
       "      <td>96.0</td>\n",
       "      <td>10.0</td>\n",
       "      <td>10.0</td>\n",
       "      <td>10.0</td>\n",
       "      <td>10.0</td>\n",
       "      <td>10.0</td>\n",
       "      <td>9.0</td>\n",
       "      <td>NaN</td>\n",
       "      <td>t</td>\n",
       "      <td>1</td>\n",
       "      <td>1</td>\n",
       "      <td>0</td>\n",
       "      <td>0</td>\n",
       "      <td>0.65</td>\n",
       "    </tr>\n",
       "  </tbody>\n",
       "</table>\n",
       "</div>"
      ],
      "text/plain": [
       "      id                         listing_url       scrape_id last_scraped  \\\n",
       "0  11551  https://www.airbnb.com/rooms/11551  20210411033700   2021-04-19   \n",
       "1  13913  https://www.airbnb.com/rooms/13913  20210411033700   2021-04-17   \n",
       "2  15400  https://www.airbnb.com/rooms/15400  20210411033700   2021-04-16   \n",
       "\n",
       "                                         name  \\\n",
       "0  Arty and Bright London Apartment in Zone 2   \n",
       "1         Holiday London DB Room Let-on going   \n",
       "2         Bright Chelsea  Apartment. Chelsea!   \n",
       "\n",
       "                                         description  \\\n",
       "0  Unlike most rental apartments my flat gives yo...   \n",
       "1  My bright double bedroom with a large window h...   \n",
       "2  Lots of windows and light.  St Luke's Gardens ...   \n",
       "\n",
       "                               neighborhood_overview  \\\n",
       "0  Not even 10 minutes by metro from Victoria Sta...   \n",
       "1  Finsbury Park is a friendly melting pot commun...   \n",
       "2                                     It is Chelsea.   \n",
       "\n",
       "                                         picture_url  host_id  \\\n",
       "0  https://a0.muscache.com/pictures/b7afccf4-18e5...    43039   \n",
       "1  https://a0.muscache.com/pictures/miso/Hosting-...    54730   \n",
       "2  https://a0.muscache.com/pictures/428392/462d26...    60302   \n",
       "\n",
       "                                  host_url host_name  host_since  \\\n",
       "0  https://www.airbnb.com/users/show/43039   Adriano  2009-10-03   \n",
       "1  https://www.airbnb.com/users/show/54730     Alina  2009-11-16   \n",
       "2  https://www.airbnb.com/users/show/60302  Philippa  2009-12-05   \n",
       "\n",
       "                         host_location  \\\n",
       "0      London, England, United Kingdom   \n",
       "1      London, England, United Kingdom   \n",
       "2  Kensington, England, United Kingdom   \n",
       "\n",
       "                                          host_about host_response_time  \\\n",
       "0  Hello, I'm a friendly Italian man with a posit...     within an hour   \n",
       "1  I am a Multi-Media Visual Artist and Creative ...     within an hour   \n",
       "2  English, grandmother,  I have travelled quite ...                NaN   \n",
       "\n",
       "  host_response_rate host_acceptance_rate host_is_superhost  \\\n",
       "0               100%                  81%                 f   \n",
       "1               100%                  NaN                 f   \n",
       "2                NaN                  NaN                 f   \n",
       "\n",
       "                                  host_thumbnail_url  \\\n",
       "0  https://a0.muscache.com/im/pictures/user/5f182...   \n",
       "1  https://a0.muscache.com/im/users/54730/profile...   \n",
       "2  https://a0.muscache.com/im/users/60302/profile...   \n",
       "\n",
       "                                    host_picture_url host_neighbourhood  \\\n",
       "0  https://a0.muscache.com/im/pictures/user/5f182...            Brixton   \n",
       "1  https://a0.muscache.com/im/users/54730/profile...    LB of Islington   \n",
       "2  https://a0.muscache.com/im/users/60302/profile...            Chelsea   \n",
       "\n",
       "   host_listings_count  host_total_listings_count  \\\n",
       "0                  0.0                        0.0   \n",
       "1                  3.0                        3.0   \n",
       "2                  1.0                        1.0   \n",
       "\n",
       "                                  host_verifications host_has_profile_pic  \\\n",
       "0  ['email', 'phone', 'reviews', 'jumio', 'offlin...                    t   \n",
       "1  ['email', 'phone', 'facebook', 'reviews', 'off...                    t   \n",
       "2  ['email', 'phone', 'reviews', 'jumio', 'govern...                    t   \n",
       "\n",
       "  host_identity_verified                              neighbourhood  \\\n",
       "0                      t                     London, United Kingdom   \n",
       "1                      t  Islington, Greater London, United Kingdom   \n",
       "2                      t                     London, United Kingdom   \n",
       "\n",
       "   neighbourhood_cleansed  neighbourhood_group_cleansed  latitude  longitude  \\\n",
       "0                 Lambeth                           NaN  51.46095   -0.11758   \n",
       "1               Islington                           NaN  51.56861   -0.11270   \n",
       "2  Kensington and Chelsea                           NaN  51.48780   -0.16813   \n",
       "\n",
       "               property_type        room_type  accommodates  bathrooms  \\\n",
       "0           Entire apartment  Entire home/apt             4        NaN   \n",
       "1  Private room in apartment     Private room             2        NaN   \n",
       "2           Entire apartment  Entire home/apt             2        NaN   \n",
       "\n",
       "  bathrooms_text  bedrooms  beds  \\\n",
       "0         1 bath       1.0   3.0   \n",
       "1  1 shared bath       1.0   0.0   \n",
       "2         1 bath       1.0   1.0   \n",
       "\n",
       "                                           amenities    price  minimum_nights  \\\n",
       "0  [\"Hair dryer\", \"Essentials\", \"Washer\", \"Lockbo...  $110.00               2   \n",
       "1  [\"Kitchen\", \"Host greets you\", \"Bed linens\", \"...   $40.00               1   \n",
       "2  [\"Kitchen\", \"Hangers\", \"Fire extinguisher\", \"L...   $75.00              10   \n",
       "\n",
       "   maximum_nights  minimum_minimum_nights  maximum_minimum_nights  \\\n",
       "0            1125                     2.0                     2.0   \n",
       "1              29                     1.0                     1.0   \n",
       "2              50                    10.0                    10.0   \n",
       "\n",
       "   minimum_maximum_nights  maximum_maximum_nights  minimum_nights_avg_ntm  \\\n",
       "0                  1125.0                  1125.0                     2.0   \n",
       "1                    29.0                    29.0                     1.0   \n",
       "2                    50.0                    50.0                    10.0   \n",
       "\n",
       "   maximum_nights_avg_ntm  calendar_updated has_availability  availability_30  \\\n",
       "0                  1125.0               NaN                t                0   \n",
       "1                    29.0               NaN                t                2   \n",
       "2                    50.0               NaN                t                0   \n",
       "\n",
       "   availability_60  availability_90  availability_365 calendar_last_scraped  \\\n",
       "0               14               44               220            2021-04-19   \n",
       "1                2                2                 2            2021-04-17   \n",
       "2                0                0               236            2021-04-16   \n",
       "\n",
       "   number_of_reviews  number_of_reviews_ltm  number_of_reviews_l30d  \\\n",
       "0                193                      1                       0   \n",
       "1                 21                      0                       0   \n",
       "2                 89                      0                       0   \n",
       "\n",
       "  first_review last_review  review_scores_rating  review_scores_accuracy  \\\n",
       "0   2010-03-21  2021-02-21                  91.0                     9.0   \n",
       "1   2010-08-18  2020-02-22                  97.0                    10.0   \n",
       "2   2009-12-21  2020-03-16                  96.0                    10.0   \n",
       "\n",
       "   review_scores_cleanliness  review_scores_checkin  \\\n",
       "0                        9.0                   10.0   \n",
       "1                       10.0                   10.0   \n",
       "2                       10.0                   10.0   \n",
       "\n",
       "   review_scores_communication  review_scores_location  review_scores_value  \\\n",
       "0                         10.0                     9.0                  9.0   \n",
       "1                         10.0                     9.0                  9.0   \n",
       "2                         10.0                    10.0                  9.0   \n",
       "\n",
       "   license instant_bookable  calculated_host_listings_count  \\\n",
       "0      NaN                t                               2   \n",
       "1      NaN                f                               2   \n",
       "2      NaN                t                               1   \n",
       "\n",
       "   calculated_host_listings_count_entire_homes  \\\n",
       "0                                            2   \n",
       "1                                            1   \n",
       "2                                            1   \n",
       "\n",
       "   calculated_host_listings_count_private_rooms  \\\n",
       "0                                             0   \n",
       "1                                             1   \n",
       "2                                             0   \n",
       "\n",
       "   calculated_host_listings_count_shared_rooms  reviews_per_month  \n",
       "0                                            0               1.43  \n",
       "1                                            0               0.16  \n",
       "2                                            0               0.65  "
      ]
     },
     "execution_count": 30,
     "metadata": {},
     "output_type": "execute_result"
    }
   ],
   "source": [
    "# Importing listings.csv\n",
    "df = pd.read_csv('../data/listings.csv')\n",
    "\n",
    "# Showing first 5 rows\n",
    "df.head(3)"
   ]
  },
  {
   "cell_type": "markdown",
   "metadata": {},
   "source": [
    "# Only Select those with more than 1 reviews"
   ]
  },
  {
   "cell_type": "code",
   "execution_count": 31,
   "metadata": {},
   "outputs": [],
   "source": [
    "# Select rows that have number_of_reviews more than 1\n",
    "df = df.loc[df['number_of_reviews'] > 1,:].reset_index(drop=True)"
   ]
  },
  {
   "cell_type": "markdown",
   "metadata": {},
   "source": [
    "# Dropping irrelevant columns"
   ]
  },
  {
   "cell_type": "code",
   "execution_count": 32,
   "metadata": {},
   "outputs": [
    {
     "data": {
      "text/plain": [
       "(43754, 48)"
      ]
     },
     "execution_count": 32,
     "metadata": {},
     "output_type": "execute_result"
    }
   ],
   "source": [
    "# Hand selecting variables that seem to not be relevant to the machine learning model\n",
    "vars_todrop = ['has_availability','description','neighborhood_overview','host_about','id','listing_url','scrape_id','availability_30','last_scraped','name','picture_url','host_name','host_id','host_url','host_location','host_thumbnail_url','host_picture_url','neighbourhood','neighbourhood_group_cleansed','bathrooms','availability_60','availability_90','availability_365','calendar_last_scraped','first_review','last_review']\n",
    "\n",
    "# Drop the selected variables\n",
    "df.drop(vars_todrop,axis=1,inplace=True)\n",
    "\n",
    "# Showing the dimension of the datafram\n",
    "df.shape"
   ]
  },
  {
   "cell_type": "markdown",
   "metadata": {},
   "source": [
    "# Viewing columns with missing values"
   ]
  },
  {
   "cell_type": "code",
   "execution_count": 33,
   "metadata": {},
   "outputs": [
    {
     "data": {
      "image/png": "[encoded data removed]",
      "text/plain": [
       "<Figure size 1080x576 with 2 Axes>"
      ]
     },
     "metadata": {
      "needs_background": "light"
     },
     "output_type": "display_data"
    }
   ],
   "source": [
    "# Boolean of those variables that have missing values\n",
    "boolean = df.isnull().sum() > 0\n",
    "\n",
    "# Only selecting those variables that have missing values\n",
    "missing_cols = df.columns[boolean]\n",
    "\n",
    "# Visualizing the proportion of missing data\n",
    "plt.figure(figsize=(15,8))\n",
    "sns.heatmap(df[missing_cols].isnull())\n",
    "plt.show()"
   ]
  },
  {
   "cell_type": "markdown",
   "metadata": {},
   "source": [
    "# Dropping columns with more than 20% missing values"
   ]
  },
  {
   "cell_type": "code",
   "execution_count": 34,
   "metadata": {},
   "outputs": [],
   "source": [
    "missing_series = df[missing_cols].isnull().sum()*100 / df.shape[0]    # Percentage of missing values in each variable\n",
    "var_todrop = df[missing_cols].columns[missing_series > 20].tolist()   # Extracting name of those that have more than 20% missing values\n",
    "df.drop(var_todrop,axis=1,inplace=True)                               # Dropping those variables"
   ]
  },
  {
   "cell_type": "markdown",
   "metadata": {},
   "source": [
    "# Creating imputing dictionary for missing values"
   ]
  },
  {
   "cell_type": "code",
   "execution_count": 35,
   "metadata": {},
   "outputs": [],
   "source": [
    "vars_numeric = [var for var in df.columns if df[var].dtype != 'object' and var != 'price']\n",
    "vars_category = [var for var in df.columns if var not in vars_numeric and var != 'price']\n",
    "missing_cols = df.columns[df.isnull().sum() > 0]\n",
    "\n",
    "# Extract the median of the variable to be the imputing value (NUMERIC ONLY)\n",
    "impute_numeric = df[missing_cols].median().to_dict()\n",
    "\n",
    "# Extract the most popular value to be the imputating value (CATEGORY ONLY)\n",
    "impute_category = {}\n",
    "for c in vars_category :\n",
    "    value_impute = df[c].value_counts().index.tolist()[0]\n",
    "    impute_category[c] = value_impute\n",
    "\n",
    "# Merge 2 impute dictionary together\n",
    "impute_dict = {**impute_numeric, **impute_category}\n",
    "\n",
    "# Imputing values that have missing rows and columns\n",
    "for c in missing_cols:\n",
    "    mask = df[c].isnull()\n",
    "    df.loc[mask,c] = impute_dict[c]"
   ]
  },
  {
   "cell_type": "markdown",
   "metadata": {},
   "source": [
    "# Clean host_since variable"
   ]
  },
  {
   "cell_type": "code",
   "execution_count": 36,
   "metadata": {},
   "outputs": [
    {
     "data": {
      "text/plain": [
       "0    2009-10-03\n",
       "1    2009-11-16\n",
       "2    2009-12-05\n",
       "Name: host_since, dtype: object"
      ]
     },
     "execution_count": 36,
     "metadata": {},
     "output_type": "execute_result"
    }
   ],
   "source": [
    "df['host_since'][:3]"
   ]
  },
  {
   "cell_type": "code",
   "execution_count": 37,
   "metadata": {},
   "outputs": [],
   "source": [
    "def clean_host_since(string):\n",
    "    \"\"\"\n",
    "    Convert 2009-10-03  to 2009\n",
    "    Changing into integer\n",
    "    Calculate years old by 2021 - 2009\n",
    "    \"\"\"\n",
    "    string = string[:4]\n",
    "    integer = int(string)\n",
    "    old = 2021 - integer\n",
    "    return old \n",
    "df['host_years']  = df['host_since'].apply(clean_host_since)\n",
    "df.drop('host_since',axis=1,inplace=True)"
   ]
  },
  {
   "cell_type": "markdown",
   "metadata": {},
   "source": [
    "# Clean host_verifications"
   ]
  },
  {
   "cell_type": "markdown",
   "metadata": {},
   "source": [
    "### The problems"
   ]
  },
  {
   "cell_type": "code",
   "execution_count": 38,
   "metadata": {},
   "outputs": [
    {
     "data": {
      "text/plain": [
       "0    ['email', 'phone', 'reviews', 'jumio', 'offlin...\n",
       "1    ['email', 'phone', 'facebook', 'reviews', 'off...\n",
       "2    ['email', 'phone', 'reviews', 'jumio', 'govern...\n",
       "Name: host_verifications, dtype: object"
      ]
     },
     "execution_count": 38,
     "metadata": {},
     "output_type": "execute_result"
    }
   ],
   "source": [
    "df['host_verifications'].head(3)"
   ]
  },
  {
   "cell_type": "markdown",
   "metadata": {},
   "source": [
    "### Removing ] ['' "
   ]
  },
  {
   "cell_type": "code",
   "execution_count": 39,
   "metadata": {},
   "outputs": [
    {
     "data": {
      "text/plain": [
       "0    email,phone,reviews,jumio,offline_government_i...\n",
       "1    email,phone,facebook,reviews,offline_governmen...\n",
       "2              email,phone,reviews,jumio,government_id\n",
       "Name: host_verifications, dtype: object"
      ]
     },
     "execution_count": 39,
     "metadata": {},
     "output_type": "execute_result"
    }
   ],
   "source": [
    "def clean_array(string):\n",
    "    \"\"\"\n",
    "    Remove (['\"\"'])\n",
    "    \"\"\"\n",
    "    string = re.sub(r'[\\[\\]\\'\\\" ]','',string)\n",
    "    return string\n",
    "\n",
    "df['host_verifications'] = df['host_verifications'].apply(clean_array)\n",
    "df['host_verifications'].head(3)"
   ]
  },
  {
   "cell_type": "markdown",
   "metadata": {},
   "source": [
    "### Extracting unique verifications"
   ]
  },
  {
   "cell_type": "code",
   "execution_count": 40,
   "metadata": {},
   "outputs": [
    {
     "data": {
      "text/plain": [
       "0        email,phone,reviews,jumio,offline_government_i...\n",
       "1        email,phone,facebook,reviews,offline_governmen...\n",
       "2                  email,phone,reviews,jumio,government_id\n",
       "3        email,phone,reviews,jumio,offline_government_i...\n",
       "4        email,phone,reviews,offline_government_id,self...\n",
       "                               ...                        \n",
       "43749                                          email,phone\n",
       "43750                         email,phone,facebook,reviews\n",
       "43751    email,phone,jumio,offline_government_id,selfie...\n",
       "43752                                          email,phone\n",
       "43753                                          email,phone\n",
       "Name: host_verifications, Length: 43754, dtype: object"
      ]
     },
     "execution_count": 40,
     "metadata": {},
     "output_type": "execute_result"
    }
   ],
   "source": [
    "df['host_verifications']"
   ]
  },
  {
   "cell_type": "code",
   "execution_count": 41,
   "metadata": {},
   "outputs": [
    {
     "name": "stdout",
     "output_type": "stream",
     "text": [
      "['', 'None', 'offline_government_id', 'photographer', 'reviews', 'identity_manual', 'manual_online', 'sent_id', 'jumio', 'zhima_selfie', 'google', 'phone', 'sesame_offline', 'government_id', 'kba', 'facebook', 'weibo', 'selfie', 'email', 'manual_offline', 'sesame', 'work_email']\n",
      "\n",
      "\n",
      "['None', 'offline_government_id', 'photographer', 'reviews', 'identity_manual', 'manual_online', 'sent_id', 'jumio', 'zhima_selfie', 'google', 'phone', 'sesame_offline', 'government_id', 'kba', 'facebook', 'weibo', 'selfie', 'email', 'manual_offline', 'sesame', 'work_email']\n"
     ]
    }
   ],
   "source": [
    "# Extracting unique verifcations\n",
    "unique_verification = []\n",
    "\n",
    "# Looping through rows\n",
    "for i in range(df.shape[0]):\n",
    "    # Split by ','\n",
    "    veri_array = df['host_verifications'][i].split(',')\n",
    "    \n",
    "    #Looping through each element after spliiting\n",
    "    for element in veri_array:\n",
    "        \n",
    "        # Append its element into unique_verifcation\n",
    "        unique_verification.append(element)\n",
    "\n",
    "        # Remove those duplicates\n",
    "        unique_verification = list(set(unique_verification))\n",
    "\n",
    "print(unique_verification)\n",
    "unique_verification = unique_verification[1:]\n",
    "print('\\n')\n",
    "print(unique_verification)"
   ]
  },
  {
   "cell_type": "markdown",
   "metadata": {},
   "source": [
    "### Creating dummy variables"
   ]
  },
  {
   "cell_type": "code",
   "execution_count": 42,
   "metadata": {},
   "outputs": [
    {
     "data": {
      "text/html": [
       "<div>\n",
       "<style scoped>\n",
       "    .dataframe tbody tr th:only-of-type {\n",
       "        vertical-align: middle;\n",
       "    }\n",
       "\n",
       "    .dataframe tbody tr th {\n",
       "        vertical-align: top;\n",
       "    }\n",
       "\n",
       "    .dataframe thead th {\n",
       "        text-align: right;\n",
       "    }\n",
       "</style>\n",
       "<table border=\"1\" class=\"dataframe\">\n",
       "  <thead>\n",
       "    <tr style=\"text-align: right;\">\n",
       "      <th></th>\n",
       "      <th>host_verifications</th>\n",
       "      <th>email</th>\n",
       "      <th>jumio</th>\n",
       "    </tr>\n",
       "  </thead>\n",
       "  <tbody>\n",
       "    <tr>\n",
       "      <th>0</th>\n",
       "      <td>email,phone,reviews,jumio,offline_government_i...</td>\n",
       "      <td>1</td>\n",
       "      <td>1</td>\n",
       "    </tr>\n",
       "    <tr>\n",
       "      <th>1</th>\n",
       "      <td>email,phone,facebook,reviews,offline_governmen...</td>\n",
       "      <td>1</td>\n",
       "      <td>0</td>\n",
       "    </tr>\n",
       "    <tr>\n",
       "      <th>2</th>\n",
       "      <td>email,phone,reviews,jumio,government_id</td>\n",
       "      <td>1</td>\n",
       "      <td>1</td>\n",
       "    </tr>\n",
       "    <tr>\n",
       "      <th>3</th>\n",
       "      <td>email,phone,reviews,jumio,offline_government_i...</td>\n",
       "      <td>1</td>\n",
       "      <td>1</td>\n",
       "    </tr>\n",
       "    <tr>\n",
       "      <th>4</th>\n",
       "      <td>email,phone,reviews,offline_government_id,self...</td>\n",
       "      <td>1</td>\n",
       "      <td>0</td>\n",
       "    </tr>\n",
       "  </tbody>\n",
       "</table>\n",
       "</div>"
      ],
      "text/plain": [
       "                                  host_verifications  email  jumio\n",
       "0  email,phone,reviews,jumio,offline_government_i...      1      1\n",
       "1  email,phone,facebook,reviews,offline_governmen...      1      0\n",
       "2            email,phone,reviews,jumio,government_id      1      1\n",
       "3  email,phone,reviews,jumio,offline_government_i...      1      1\n",
       "4  email,phone,reviews,offline_government_id,self...      1      0"
      ]
     },
     "execution_count": 42,
     "metadata": {},
     "output_type": "execute_result"
    }
   ],
   "source": [
    "for veri in unique_verification:\n",
    "    df[veri] = df['host_verifications'].apply(lambda x:1 if veri in x else 0)\n",
    "df[['host_verifications','email','jumio']].head()"
   ]
  },
  {
   "cell_type": "markdown",
   "metadata": {},
   "source": [
    "### Dropping host_verification"
   ]
  },
  {
   "cell_type": "code",
   "execution_count": 43,
   "metadata": {},
   "outputs": [],
   "source": [
    "df.drop('host_verifications',axis=1,inplace=True)"
   ]
  },
  {
   "cell_type": "markdown",
   "metadata": {},
   "source": [
    "# Cleaning Amenities"
   ]
  },
  {
   "cell_type": "markdown",
   "metadata": {},
   "source": [
    "### The problems"
   ]
  },
  {
   "cell_type": "code",
   "execution_count": 44,
   "metadata": {},
   "outputs": [
    {
     "data": {
      "text/plain": [
       "0    [\"Hair dryer\", \"Essentials\", \"Washer\", \"Lockbo...\n",
       "1    [\"Kitchen\", \"Host greets you\", \"Bed linens\", \"...\n",
       "2    [\"Kitchen\", \"Hangers\", \"Fire extinguisher\", \"L...\n",
       "Name: amenities, dtype: object"
      ]
     },
     "execution_count": 44,
     "metadata": {},
     "output_type": "execute_result"
    }
   ],
   "source": [
    "df['amenities'].head(3)"
   ]
  },
  {
   "cell_type": "markdown",
   "metadata": {},
   "source": [
    "### removing [\" \"] then lower case then replace space with _"
   ]
  },
  {
   "cell_type": "code",
   "execution_count": 45,
   "metadata": {},
   "outputs": [
    {
     "data": {
      "text/plain": [
       "0    hair_dryer,essentials,washer,lockbox,iron,carb...\n",
       "1    kitchen,host_greets_you,bed_linens,hangers,fir...\n",
       "2    kitchen,hangers,fire_extinguisher,long_term_st...\n",
       "Name: amenities, dtype: object"
      ]
     },
     "execution_count": 45,
     "metadata": {},
     "output_type": "execute_result"
    }
   ],
   "source": [
    "df['amenities'] = df['amenities'].str.replace('\", \"',',').str.replace(' ','_').str.lower()\n",
    "df['amenities'] = df['amenities'].apply(clean_array)\n",
    "df['amenities'].head(3)"
   ]
  },
  {
   "cell_type": "markdown",
   "metadata": {},
   "source": [
    "### Extracting unique amenities"
   ]
  },
  {
   "cell_type": "code",
   "execution_count": 46,
   "metadata": {},
   "outputs": [
    {
     "name": "stdout",
     "output_type": "stream",
     "text": [
      "716\n"
     ]
    }
   ],
   "source": [
    "# Similar to host_verifcations\n",
    "unique_amenities = []\n",
    "for i in range(df.shape[0]):\n",
    "    ame_array = df['amenities'][i].split(',')\n",
    "    for element in ame_array:\n",
    "        unique_amenities.append(element)\n",
    "        unique_amenities = list(set(unique_amenities))\n",
    "print(len(unique_amenities))"
   ]
  },
  {
   "cell_type": "markdown",
   "metadata": {},
   "source": [
    "### Since there will be too many dummy variables, we can swap the calculating the length of amenities"
   ]
  },
  {
   "cell_type": "code",
   "execution_count": 47,
   "metadata": {},
   "outputs": [],
   "source": [
    "def length_amenities(string):\n",
    "    \"\"\"\n",
    "    return number of amenities by splitting ',' then count number of items\n",
    "    \"\"\"\n",
    "    array = string.split(',')\n",
    "    if '' in array:\n",
    "        array.remove('')\n",
    "    return len(array)\n",
    "df['num_amenities'] = df['amenities'].apply(length_amenities)\n",
    "df.drop('amenities',axis=1,inplace=True)"
   ]
  },
  {
   "cell_type": "markdown",
   "metadata": {},
   "source": [
    "# Cleaning Price"
   ]
  },
  {
   "cell_type": "code",
   "execution_count": 48,
   "metadata": {},
   "outputs": [],
   "source": [
    "# Extracting all the number in price\n",
    "df['price'] = df['price'].str.extract(r'(\\d+)')[0]\n",
    "\n",
    "# Changing into integer\n",
    "df['price'] = df['price'].astype(int)"
   ]
  },
  {
   "cell_type": "markdown",
   "metadata": {},
   "source": [
    "# Removing Outliers"
   ]
  },
  {
   "cell_type": "code",
   "execution_count": 49,
   "metadata": {},
   "outputs": [],
   "source": [
    "# Only selecting price in range [15,150] per night\n",
    "df = df.loc[(df['price'] >14) & (df['price'] < 151),:].reset_index(drop=True)\n",
    "\n",
    "# Only selecting listing with less than 10 number of beds\n",
    "df = df.loc[df['beds'] < 10,:]"
   ]
  },
  {
   "cell_type": "markdown",
   "metadata": {},
   "source": [
    "# Transforming t/f to 1/0"
   ]
  },
  {
   "cell_type": "code",
   "execution_count": 50,
   "metadata": {},
   "outputs": [],
   "source": [
    "tf = ['host_is_superhost','host_has_profile_pic','host_identity_verified','instant_bookable']\n",
    "for c in tf:\n",
    "    df[c] = df[c].apply(lambda x: 1 if x=='t' else 0)"
   ]
  },
  {
   "cell_type": "markdown",
   "metadata": {},
   "source": [
    "# -------------------------------------------------------------------- BUILDING MODEL --------------------------------------------------------------------"
   ]
  },
  {
   "cell_type": "code",
   "execution_count": 51,
   "metadata": {},
   "outputs": [],
   "source": [
    "from catboost import CatBoostRegressor, Pool, cv, CatBoostClassifier\n",
    "import pandas as pd\n",
    "import numpy as np\n",
    "import pickle\n",
    "\n",
    "# Calculating MAE between predictions and true labels\n",
    "def fn_MAE(actuals, predictions):\n",
    "    \n",
    "    return np.mean(np.abs(predictions - actuals))\n",
    "\n",
    "# Calculating RMSE between predictions and true labels\n",
    "def fn_RMSE(actuals, predictions):\n",
    "    return np.sqrt(np.mean((predictions - actuals)**2))"
   ]
  },
  {
   "cell_type": "code",
   "execution_count": 52,
   "metadata": {},
   "outputs": [],
   "source": [
    "### Dependent variable\n",
    "var_dep = ['price']\n",
    "\n",
    "### Categorical variables\n",
    "vars_category = [var for var in df.columns if df[var].dtype != 'float' and df[var].dtype != 'int']\n",
    "\n",
    "### Numerical variables\n",
    "vars_numeric = [var for var in df.columns if var not in var_dep + vars_category]\n",
    "\n",
    "### Indepedent variables\n",
    "vars_ind = vars_category + vars_numeric"
   ]
  },
  {
   "cell_type": "markdown",
   "metadata": {},
   "source": [
    "# Separating Train and Test set with test size = 20% of original dataframe"
   ]
  },
  {
   "cell_type": "code",
   "execution_count": 53,
   "metadata": {},
   "outputs": [],
   "source": [
    "from sklearn.model_selection import train_test_split\n",
    "X = df[vars_ind]\n",
    "y = df[var_dep]\n",
    "\n",
    "X_train, X_test, y_train, y_test = train_test_split(X, y, test_size = 0.2, random_state=1)"
   ]
  },
  {
   "cell_type": "markdown",
   "metadata": {},
   "source": [
    "# Separating validation set within train set"
   ]
  },
  {
   "cell_type": "code",
   "execution_count": 54,
   "metadata": {},
   "outputs": [],
   "source": [
    "np.random.seed(42)\n",
    "df_train = pd.concat([X_train,y_train],axis=1)\n",
    "df_train['fold'] = np.random.randint(0,8,df_train.shape[0])\n",
    "\n",
    "\n",
    "idx_train  = df_train['fold'].isin(range(8))\n",
    "idx_val    = df_train['fold'].isin([6,7])\n",
    "idx_design = df_train['fold'].isin(range(8))\n",
    "\n",
    "df_X_all = df_train[idx_design][vars_ind]\n",
    "y = df_train[var_dep].values"
   ]
  },
  {
   "cell_type": "markdown",
   "metadata": {},
   "source": [
    "# CatBoostRegressor with selected parameters"
   ]
  },
  {
   "cell_type": "code",
   "execution_count": 55,
   "metadata": {},
   "outputs": [
    {
     "name": "stderr",
     "output_type": "stream",
     "text": [
      "Custom logger is already specified. Specify more than one logger at same time is not thread safe."
     ]
    },
    {
     "data": {
      "application/vnd.jupyter.widget-view+json": {
       "model_id": "7fe9fb8623224a7caeb3c5fc0303efd2",
       "version_major": 2,
       "version_minor": 0
      },
      "text/plain": [
       "MetricVisualizer(layout=Layout(align_self='stretch', height='500px'))"
      ]
     },
     "metadata": {},
     "output_type": "display_data"
    },
    {
     "data": {
      "text/plain": [
       "<catboost.core.CatBoostRegressor at 0x7f897d3c4b80>"
      ]
     },
     "execution_count": 55,
     "metadata": {},
     "output_type": "execute_result"
    }
   ],
   "source": [
    "model2 = CatBoostRegressor(iterations=4000,                     # Building max of 4000 trees\n",
    "                        use_best_model=True,                   # Use validation to choose best model\n",
    "                        eval_metric='RMSE',                    # Use RMSE as a metric \n",
    "                        od_type='Iter',                        # To prevent overfitting\n",
    "                        od_wait=20,                            # If after 20 steps, local minimum has not changed then stop\n",
    "                        border_count=128,                      # Only split a numerical variable 128 times\n",
    "                        model_size_reg=0,                      # Parameter set to be similar with GPU\n",
    "                        ctr_leaf_count_limit=None,             # No leaf count limit\n",
    "                        leaf_estimation_method = 'Gradient',   # Using Gradient metric\n",
    "                        max_ctr_complexity=4,                  # Set similar to GPU\n",
    "                        learning_rate=0.03,                    # Learning rate as 0.03\n",
    "\n",
    "                        boosting_type='Plain',                 # Set boosting type\n",
    "                        bootstrap_type='Bernoulli',            # Bootstraping type\n",
    "                        one_hot_max_size=10,                   # Max 10 dummy variables\n",
    "                        task_type='CPU',                       # Set as CPU\n",
    "                        depth=7,                               # Level of depth \n",
    "                        l2_leaf_reg=30,                        # Level of penalize \n",
    "                        loss_function='RMSE',                  # Metric set as RMSE\n",
    "                        random_seed=14,                        # Reproducible\n",
    "                        logging_level='Silent'                 # No need to print out anything\n",
    "                        )\n",
    "\n",
    "\n",
    "model2.fit(df_X_all[idx_design], y[idx_design],\n",
    "            cat_features=vars_category,\n",
    "            eval_set=(df_X_all[idx_val], y[idx_val]),\n",
    "            plot=True)\n",
    "\n"
   ]
  },
  {
   "cell_type": "markdown",
   "metadata": {},
   "source": [
    "# Calculating MAE and RMSE of validation error"
   ]
  },
  {
   "cell_type": "code",
   "execution_count": 56,
   "metadata": {},
   "outputs": [
    {
     "name": "stdout",
     "output_type": "stream",
     "text": [
      "val error 37.218468626964636\n",
      "RMSE val error 46.001912416116944\n"
     ]
    }
   ],
   "source": [
    "pred_val   = model2.predict(df_X_all[idx_val])\n",
    "print('val error',   fn_MAE(y[idx_val],   pred_val))\n",
    "print('RMSE val error', fn_RMSE(y[idx_val],   pred_val))"
   ]
  },
  {
   "cell_type": "markdown",
   "metadata": {},
   "source": [
    "# Predicting Test set and calculating its R-Squared"
   ]
  },
  {
   "cell_type": "code",
   "execution_count": 57,
   "metadata": {},
   "outputs": [
    {
     "data": {
      "text/plain": [
       "0.7060389359256094"
      ]
     },
     "execution_count": 57,
     "metadata": {},
     "output_type": "execute_result"
    }
   ],
   "source": [
    "pred_test   = model2.predict(X_test)\n",
    "\n",
    "from sklearn.metrics import r2_score\n",
    "r2_score(y_test, pred_test)"
   ]
  },
  {
   "cell_type": "markdown",
   "metadata": {},
   "source": [
    "# Drawing its variable importance"
   ]
  },
  {
   "cell_type": "code",
   "execution_count": 58,
   "metadata": {},
   "outputs": [],
   "source": [
    "scores = model2.feature_importances_.tolist()\n",
    "column_name = X_train.columns.tolist()\n",
    "\n",
    "# Barchart to visualize\n",
    "barchart = pd.DataFrame({\n",
    "    'variables':column_name,\n",
    "    'scores':scores\n",
    "})\n",
    "\n",
    "# Re-aranging by sorting via level of importance\n",
    "barchart = barchart.sort_values('scores',ascending=True)\n",
    "barchart = barchart.tail(20)\n",
    "barchart['scores'] = barchart['scores']*100 / barchart['scores'].max()\n"
   ]
  },
  {
   "cell_type": "markdown",
   "metadata": {},
   "source": [
    "# Visualizing variables importance"
   ]
  },
  {
   "cell_type": "code",
   "execution_count": 59,
   "metadata": {},
   "outputs": [
    {
     "data": {
      "text/plain": [
       "Text(0.5, 1.0, 'Variable Importance')"
      ]
     },
     "execution_count": 59,
     "metadata": {},
     "output_type": "execute_result"
    },
    {
     "data": {
      "image/png": "[encoded data removed]",
      "text/plain": [
       "<Figure size 1728x864 with 1 Axes>"
      ]
     },
     "metadata": {
      "needs_background": "light"
     },
     "output_type": "display_data"
    }
   ],
   "source": [
    "import matplotlib.pyplot as plt\n",
    "fig, ax = plt.subplots(figsize=(12, 6), dpi=144)\n",
    "colors = plt.cm.Dark2(range(6))\n",
    "y = barchart.variables\n",
    "width = barchart.scores\n",
    "\n",
    "ax.barh(y=y, width=width, color=colors)\n",
    "ax.set_facecolor('.8')\n",
    "ax.tick_params(labelsize=16, length=0)\n",
    "ax.grid(True,axis='x',color='white')\n",
    "ax.set_axisbelow(True)\n",
    "ax.set_title('Variable Importance',fontsize=20,fontweight=600)"
   ]
  },
  {
   "cell_type": "markdown",
   "metadata": {},
   "source": [
    "### Comment\n",
    "\n",
    "- Gradient Boosted Algorithm with selected parameters achieved 0.7 R-Squared value which is considered to be substantial\n",
    "- According to the variable importance of the gradient boosted algorithm, property type and neighbourhood have the largest impact on the price of the listing\n",
    "- Number of amenities and number of reviews of the listing barely influence the price of the listing."
   ]
  },
  {
   "cell_type": "markdown",
   "metadata": {},
   "source": []
  }
 ],
 "metadata": {
  "interpreter": {
   "hash": "cab6a1475a4680f04d7fca2ae4b1c0afd8d659ac9970e3b6c4956f2cfd82fd0a"
  },
  "kernelspec": {
   "display_name": "Python 3.8.10 64-bit ('AML': conda)",
   "name": "python3"
  },
  "language_info": {
   "codemirror_mode": {
    "name": "ipython",
    "version": 3
   },
   "file_extension": ".py",
   "mimetype": "text/x-python",
   "name": "python",
   "nbconvert_exporter": "python",
   "pygments_lexer": "ipython3",
   "version": "3.8.10"
  },
  "orig_nbformat": 4
 },
 "nbformat": 4,
 "nbformat_minor": 2
}